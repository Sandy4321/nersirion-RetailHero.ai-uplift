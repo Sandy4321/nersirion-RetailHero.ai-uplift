{
 "cells": [
  {
   "cell_type": "markdown",
   "metadata": {},
   "source": [
    "# Использование класса Features Generator для извлечения признаков"
   ]
  },
  {
   "cell_type": "code",
   "execution_count": 1,
   "metadata": {},
   "outputs": [],
   "source": [
    "from Features_Generator import Features_Generator"
   ]
  },
  {
   "cell_type": "code",
   "execution_count": 2,
   "metadata": {},
   "outputs": [],
   "source": [
    "#Инициализируем класс, указывая путь к папке с файлами\n",
    "fg = Features_Generator('D:/ML_sets/data/')"
   ]
  },
  {
   "cell_type": "markdown",
   "metadata": {},
   "source": [
    "Если проблем с памятью нет, то просто запускаем функцию create_features и получаем обработанные train, test датасеты. В классах с моделями используется val set, поэтому надо не забыть его создать при сохраненние, если будет использоваться метод загрузки и режим 'val'. Или передать напрямую в класс."
   ]
  },
  {
   "cell_type": "code",
   "execution_count": null,
   "metadata": {},
   "outputs": [],
   "source": [
    "train, test = fg.create_features(low_memory=False)"
   ]
  },
  {
   "cell_type": "markdown",
   "metadata": {},
   "source": [
    "Если памяти мало и сразу все данные из файла purchases.csv не загружаются, то используем режим low_memory."
   ]
  },
  {
   "cell_type": "code",
   "execution_count": null,
   "metadata": {},
   "outputs": [],
   "source": [
    "#Читаем датасет по chunks. Полученные данные сохраняются в папку path+feat_sets/, поэтому надо не забыть создать ее.\n",
    "fg.create_features(low_memory=True, save_files=True, skip_number=0, stop_number=9)\n",
    "fg.create_features(low_memory=True, save_files=True, skip_number=9, stop_number=18)\n",
    "fg.create_features(low_memory=True, save_files=True, skip_number=18, stop_number=27)\n",
    "fg.create_features(low_memory=True, save_files=True, skip_number=27, stop_number=36)\n",
    "fg.create_features(low_memory=True, save_files=True, skip_number=36, stop_number=46)"
   ]
  },
  {
   "cell_type": "code",
   "execution_count": 5,
   "metadata": {},
   "outputs": [
    {
     "name": "stdout",
     "output_type": "stream",
     "text": [
      "Создаются раздельные датафреймы...\n",
      "Данные сохраняются в директорию D:/ML_sets/data/feat_sets/...\n",
      "Файлы успешно сохранены в директорию D:/ML_sets/data/feat_sets/\n",
      "Весь процесс обработки данных занял 161 секунд\n",
      "Тренировочный датасет состоит из обработанных данных 8674 клиентов и 187 сгенерированных признаков\n",
      "Тестовый датасет состоит из обработанных данных 8682 клиентов и 187 сгенерированных признаков\n"
     ]
    }
   ],
   "source": [
    "#Пример. Если сразу все по не запускаются, то можно делать по очереди через kernel restart.\n",
    "fg.create_features(low_memory=True, save_files=True, skip_number=9, stop_number=11)"
   ]
  },
  {
   "cell_type": "code",
   "execution_count": 7,
   "metadata": {},
   "outputs": [
    {
     "name": "stdout",
     "output_type": "stream",
     "text": [
      "Весь процесс обработки данных занял 5 секунд\n"
     ]
    }
   ],
   "source": [
    "#Потом данные нужно объеденить с помощью функции concat_features_sets. Файлы сохранятся в исходный путь.\n",
    "fg.concat_features_sets(path_to_sets = 'D:/ML_sets/data/feat_sets/', test_sets=True, train_sets=True, valid_set=True)"
   ]
  },
  {
   "cell_type": "markdown",
   "metadata": {},
   "source": [
    "### Датасеты с признаками созданы, теперь можно приступать к работе с моделями"
   ]
  }
 ],
 "metadata": {
  "kernelspec": {
   "display_name": "Python 3",
   "language": "python",
   "name": "python3"
  },
  "language_info": {
   "codemirror_mode": {
    "name": "ipython",
    "version": 3
   },
   "file_extension": ".py",
   "mimetype": "text/x-python",
   "name": "python",
   "nbconvert_exporter": "python",
   "pygments_lexer": "ipython3",
   "version": "3.7.3"
  }
 },
 "nbformat": 4,
 "nbformat_minor": 2
}
